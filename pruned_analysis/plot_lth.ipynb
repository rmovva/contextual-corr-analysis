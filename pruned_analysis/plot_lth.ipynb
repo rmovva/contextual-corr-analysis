{
 "cells": [
  {
   "cell_type": "code",
   "execution_count": 2,
   "metadata": {},
   "outputs": [],
   "source": [
    "import pandas as pd\n",
    "import seaborn as sns\n",
    "import matplotlib.pyplot as plt\n",
    "from matplotlib import rcParams\n",
    "from matplotlib import font_manager\n",
    "plt.style.use('seaborn-darkgrid')\n",
    "fpath = '/raj-learn/envs/contextual_repr_analysis/lib/python3.6/site-packages/matplotlib/mpl-data/fonts/ttf/cmss10.ttf'\n",
    "prop = font_manager.FontProperties(fname=fpath)\n",
    "rcParams['font.family'] = prop.get_name()\n",
    "rcParams['mathtext.fontset'] = 'cm'\n",
    "rcParams['axes.unicode_minus'] = False"
   ]
  },
  {
   "cell_type": "code",
   "execution_count": null,
   "metadata": {},
   "outputs": [],
   "source": [
    "lth_base = [(0, 27.77), \n",
    "            (0.168, 28.04), \n",
    "            (0.302, 28.00), \n",
    "            (0.410, 27.70), \n",
    "            (0.496, 27.93), \n",
    "            (0.565, 27.80), \n",
    "            (0.620, 27.76),\n",
    "            (0.664, 27.61),\n",
    "            (0.699, 27.19),\n",
    "            (0.727, 27.16)\n",
    "           ]\n",
    "lth_embed = [(0, 27.77), \n",
    "             (0.200, 28.), \n",
    "             (0.302, 28.00), \n",
    "             (0.410, 27.70), \n",
    "             (0.496, 27.93), \n",
    "             (0.565, 27.80), \n",
    "             (0.620, 27.76),\n",
    "             (0.664, 27.61),\n",
    "             (0.699, 27.19),\n",
    "             (0.727, 27.16)\n",
    "            ]"
   ]
  }
 ],
 "metadata": {
  "kernelspec": {
   "display_name": "Python 3",
   "language": "python",
   "name": "python3"
  },
  "language_info": {
   "codemirror_mode": {
    "name": "ipython",
    "version": 3
   },
   "file_extension": ".py",
   "mimetype": "text/x-python",
   "name": "python",
   "nbconvert_exporter": "python",
   "pygments_lexer": "ipython3",
   "version": "3.6.9"
  }
 },
 "nbformat": 4,
 "nbformat_minor": 4
}
